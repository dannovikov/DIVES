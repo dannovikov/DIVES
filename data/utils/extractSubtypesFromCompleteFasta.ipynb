{
 "cells": [
  {
   "cell_type": "code",
   "execution_count": 13,
   "metadata": {},
   "outputs": [],
   "source": [
    "fasta = r\"C:\\Users\\Dan\\Desktop\\CDC\\Projects\\dives\\data\\raw\\complete_original_sequences_withsubtypes.fasta\"\n",
    "out = r\"C:\\Users\\Dan\\Desktop\\CDC\\Projects\\dives\\data\\preproc\\subtypes.csv\""
   ]
  },
  {
   "cell_type": "code",
   "execution_count": 14,
   "metadata": {},
   "outputs": [],
   "source": [
    "subtypes, seqids = [], []\n",
    "\n",
    "with open(fasta, 'r') as f:\n",
    "    for i , line in enumerate(f):\n",
    "        if line.startswith('>'):\n",
    "            subtype, seqid = line[1:].strip().split('.')\n",
    "            subtypes.append(subtype)\n",
    "            seqids.append(seqid)\n"
   ]
  },
  {
   "cell_type": "code",
   "execution_count": 15,
   "metadata": {},
   "outputs": [
    {
     "data": {
      "text/html": [
       "<div>\n",
       "<style scoped>\n",
       "    .dataframe tbody tr th:only-of-type {\n",
       "        vertical-align: middle;\n",
       "    }\n",
       "\n",
       "    .dataframe tbody tr th {\n",
       "        vertical-align: top;\n",
       "    }\n",
       "\n",
       "    .dataframe thead th {\n",
       "        text-align: right;\n",
       "    }\n",
       "</style>\n",
       "<table border=\"1\" class=\"dataframe\">\n",
       "  <thead>\n",
       "    <tr style=\"text-align: right;\">\n",
       "      <th></th>\n",
       "      <th>id</th>\n",
       "      <th>subtype</th>\n",
       "    </tr>\n",
       "  </thead>\n",
       "  <tbody>\n",
       "    <tr>\n",
       "      <th>0</th>\n",
       "      <td>AB023804</td>\n",
       "      <td>C</td>\n",
       "    </tr>\n",
       "    <tr>\n",
       "      <th>1</th>\n",
       "      <td>AB032740</td>\n",
       "      <td>01_AE</td>\n",
       "    </tr>\n",
       "    <tr>\n",
       "      <th>2</th>\n",
       "      <td>AB032741</td>\n",
       "      <td>01_AE</td>\n",
       "    </tr>\n",
       "    <tr>\n",
       "      <th>3</th>\n",
       "      <td>AB049811</td>\n",
       "      <td>02_AG</td>\n",
       "    </tr>\n",
       "    <tr>\n",
       "      <th>4</th>\n",
       "      <td>AB052867</td>\n",
       "      <td>02_AG</td>\n",
       "    </tr>\n",
       "    <tr>\n",
       "      <th>...</th>\n",
       "      <td>...</td>\n",
       "      <td>...</td>\n",
       "    </tr>\n",
       "    <tr>\n",
       "      <th>6100</th>\n",
       "      <td>OQ749404</td>\n",
       "      <td>140_0107</td>\n",
       "    </tr>\n",
       "    <tr>\n",
       "      <th>6101</th>\n",
       "      <td>OQ749405</td>\n",
       "      <td>140_0107</td>\n",
       "    </tr>\n",
       "    <tr>\n",
       "      <th>6102</th>\n",
       "      <td>OQ749406</td>\n",
       "      <td>140_0107</td>\n",
       "    </tr>\n",
       "    <tr>\n",
       "      <th>6103</th>\n",
       "      <td>OQ749407</td>\n",
       "      <td>140_0107</td>\n",
       "    </tr>\n",
       "    <tr>\n",
       "      <th>6104</th>\n",
       "      <td>MW728361</td>\n",
       "      <td>140_0107</td>\n",
       "    </tr>\n",
       "  </tbody>\n",
       "</table>\n",
       "<p>6105 rows × 2 columns</p>\n",
       "</div>"
      ],
      "text/plain": [
       "            id   subtype\n",
       "0     AB023804         C\n",
       "1     AB032740     01_AE\n",
       "2     AB032741     01_AE\n",
       "3     AB049811     02_AG\n",
       "4     AB052867     02_AG\n",
       "...        ...       ...\n",
       "6100  OQ749404  140_0107\n",
       "6101  OQ749405  140_0107\n",
       "6102  OQ749406  140_0107\n",
       "6103  OQ749407  140_0107\n",
       "6104  MW728361  140_0107\n",
       "\n",
       "[6105 rows x 2 columns]"
      ]
     },
     "execution_count": 15,
     "metadata": {},
     "output_type": "execute_result"
    }
   ],
   "source": [
    "import pandas as pd\n",
    "\n",
    "df = pd.DataFrame({'id': seqids, 'subtype': subtypes})\n",
    "df"
   ]
  },
  {
   "cell_type": "code",
   "execution_count": 16,
   "metadata": {},
   "outputs": [],
   "source": [
    "df.to_csv(out, index=False)"
   ]
  },
  {
   "cell_type": "code",
   "execution_count": null,
   "metadata": {},
   "outputs": [],
   "source": []
  }
 ],
 "metadata": {
  "kernelspec": {
   "display_name": "dl",
   "language": "python",
   "name": "python3"
  },
  "language_info": {
   "codemirror_mode": {
    "name": "ipython",
    "version": 3
   },
   "file_extension": ".py",
   "mimetype": "text/x-python",
   "name": "python",
   "nbconvert_exporter": "python",
   "pygments_lexer": "ipython3",
   "version": "3.9.12"
  }
 },
 "nbformat": 4,
 "nbformat_minor": 2
}
